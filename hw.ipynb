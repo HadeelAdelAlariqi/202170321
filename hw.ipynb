{
 "cells": [
  {
   "cell_type": "code",
   "execution_count": 3,
   "metadata": {},
   "outputs": [
    {
     "name": "stdout",
     "output_type": "stream",
     "text": [
      "Following is the Depth-First Search:\n",
      "2 5 \n",
      "Destination found. Continue searching for other similar values.\n",
      "3 4 8 7 "
     ]
    }
   ],
   "source": [
    "graph = {\n",
    "    '5': ['3', '7'],\n",
    "    '3': ['2', '4'],\n",
    "    '7': ['8'],\n",
    "    '2': ['5'],\n",
    "    '4': ['8'],\n",
    "    '8': ['4', '7']\n",
    "}\n",
    "\n",
    "def dfs(graph, start, destination, visited=None):\n",
    "    if visited is None:\n",
    "        visited = set()\n",
    "\n",
    "    if start not in visited:\n",
    "        print(start, end=\" \")\n",
    "        visited.add(start)\n",
    "\n",
    "        if start == destination:\n",
    "            print('\\nDestination found. Continue searching for other similar values.')\n",
    "\n",
    "        for neighbor in graph.get(start, []):\n",
    "            dfs(graph, neighbor, destination, visited)\n",
    "\n",
    "start_node = input('Enter the start point: ')\n",
    "dest_node = input('Enter the destination: ')\n",
    "\n",
    "print(\"Following is the Depth-First Search:\")\n",
    "dfs(graph, start_node, dest_node)"
   ]
  },
  {
   "cell_type": "code",
   "execution_count": null,
   "metadata": {},
   "outputs": [],
   "source": []
  }
 ],
 "metadata": {
  "kernelspec": {
   "display_name": "base",
   "language": "python",
   "name": "python3"
  },
  "language_info": {
   "codemirror_mode": {
    "name": "ipython",
    "version": 3
   },
   "file_extension": ".py",
   "mimetype": "text/x-python",
   "name": "python",
   "nbconvert_exporter": "python",
   "pygments_lexer": "ipython3",
   "version": "3.11.4"
  }
 },
 "nbformat": 4,
 "nbformat_minor": 2
}
